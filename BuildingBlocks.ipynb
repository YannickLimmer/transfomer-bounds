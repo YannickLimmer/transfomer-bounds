{
 "cells": [
  {
   "cell_type": "code",
   "execution_count": 1,
   "id": "96bc92e1-a76a-4271-b47e-2913f7b8e43d",
   "metadata": {},
   "outputs": [],
   "source": [
    "from dataclasses import dataclass\n",
    "import numpy as np\n",
    "import numba as nb\n",
    "from numba import njit, prange\n",
    "from tqdm.auto import tqdm\n",
    "from numba.typed import List, Dict\n",
    "from scipy.special import factorial\n",
    "from prettytable import PrettyTable "
   ]
  },
  {
   "cell_type": "code",
   "execution_count": 2,
   "id": "cfa2688e-4071-4f5b-8a45-bc96e5a2278f",
   "metadata": {},
   "outputs": [],
   "source": [
    "%load_ext autoreload\n",
    "%autoreload 2"
   ]
  },
  {
   "cell_type": "markdown",
   "id": "388e42d4-eb6c-4ee5-b297-925e974394a6",
   "metadata": {},
   "source": [
    "## Layer Norm"
   ]
  },
  {
   "cell_type": "code",
   "execution_count": 3,
   "id": "68c84745-615e-49c2-b62d-b0cdadbaf393",
   "metadata": {},
   "outputs": [],
   "source": [
    "from src.blocks.LayerNorm import der_bound_variance, der_bound_g, der_bounds_g, \\\n",
    "    der_bounds_variance, der_bounds_g_circ_variance"
   ]
  },
  {
   "cell_type": "code",
   "execution_count": 4,
   "id": "221038b0-026f-494c-acb9-aff71b307842",
   "metadata": {},
   "outputs": [],
   "source": [
    "from src.blocks.LayerNorm import der_bounds_layer_norm\n",
    "from src.PrintUtil import pretty_results, pretty_results_latex, pretty_max_values, pretty_max_values_latex, get_max_vals"
   ]
  },
  {
   "cell_type": "code",
   "execution_count": 28,
   "id": "4d2901e1-a6ac-4980-8b69-bf84fff78a13",
   "metadata": {},
   "outputs": [],
   "source": [
    "# by_level = True\n",
    "by_level = False"
   ]
  },
  {
   "cell_type": "code",
   "execution_count": 16,
   "id": "baddbf29-0fe6-4218-881a-e48239391062",
   "metadata": {},
   "outputs": [
    {
     "name": "stdout",
     "output_type": "stream",
     "text": [
      "+-------------------------+-------+-------+----------+------------+\n",
      "| Type                    | g     | var   | g ° var  | layer norm |\n",
      "+-------------------------+-------+-------+----------+------------+\n",
      "| (1, 0, ...)             | 0.75  | 20.00 | 32.17    | 321.71     |\n",
      "| (1, 1, 0, ...)          | NAN   | 20.00 | 782.17   | 7.89E+03   |\n",
      "| (2, 0, ...)             | 0.94  | 20.00 | 782.17   | 7.89E+03   |\n",
      "| (1, 1, 1, 0, ...)       | NAN   | 20.00 | 7.99E+04 | 8.01E+05   |\n",
      "| (2, 1, 0, ...)          | NAN   | 20.00 | 7.99E+04 | 8.01E+05   |\n",
      "| (3, 0, ...)             | 1.64  | 20.00 | 7.99E+04 | 8.01E+05   |\n",
      "| (1, 1, 1, 1, 0, ...)    | NAN   | 20.00 | 1.43E+07 | 1.44E+08   |\n",
      "| (2, 1, 1, 0, ...)       | NAN   | 20.00 | 1.43E+07 | 1.44E+08   |\n",
      "| (2, 2, 0, ...)          | NAN   | 20.00 | 1.43E+07 | 1.44E+08   |\n",
      "| (3, 1, 0, ...)          | NAN   | 20.00 | 1.43E+07 | 1.44E+08   |\n",
      "| (4, 0, ...)             | 3.69  | 20.00 | 1.43E+07 | 1.44E+08   |\n",
      "| (1, 1, 1, 1, 1, 0, ...) | NAN   | 20.00 | 4.49E+08 | 4.57E+09   |\n",
      "| (2, 1, 1, 1, 0, ...)    | NAN   | 20.00 | 4.49E+08 | 4.57E+09   |\n",
      "| (2, 2, 1, 0, ...)       | NAN   | 20.00 | 4.49E+08 | 4.57E+09   |\n",
      "| (3, 1, 1, 0, ...)       | NAN   | 20.00 | 4.49E+08 | 4.57E+09   |\n",
      "| (3, 2, 0, ...)          | NAN   | 20.00 | 4.49E+08 | 4.57E+09   |\n",
      "| (4, 1, 0, ...)          | NAN   | 20.00 | 4.49E+08 | 4.57E+09   |\n",
      "| (5, 0, ...)             | 10.15 | 20.00 | 4.49E+08 | 4.57E+09   |\n",
      "+-------------------------+-------+-------+----------+------------+\n"
     ]
    }
   ],
   "source": [
    "n = 5\n",
    "k = 10\n",
    "results = {\n",
    "    \"g\": der_bounds_g(n, by_level),\n",
    "    \"var\": der_bounds_variance(n, k, 10.0, 1.0, by_level),\n",
    "    \"g ° var\": der_bounds_g_circ_variance(n, k, 10.0, 1.0, by_level),\n",
    "    \"layer norm\": der_bounds_layer_norm(n, k, 10.0, 1.0, by_level)\n",
    "}\n",
    "print(pretty_results(n, k, dict(results)))"
   ]
  },
  {
   "cell_type": "code",
   "execution_count": 10,
   "id": "b8bdb839-c557-491e-9815-c748fc772ef3",
   "metadata": {},
   "outputs": [
    {
     "name": "stdout",
     "output_type": "stream",
     "text": [
      "+-------------------+----------+----------+----------+--------+----------+----------+----------+\n",
      "| Type              | base     | a-       | a+       | b--    | b-       | b+       | b++      |\n",
      "+-------------------+----------+----------+----------+--------+----------+----------+----------+\n",
      "| (1, 0, ...)       | 321.71   | 321.71   | 321.71   | 1.73   | 18.67    | 1.67E+04 | 1.52E+06 |\n",
      "| (1, 1, 0, ...)    | 7.75E+03 | 7.75E+03 | 7.75E+03 | 36.52  | 63.51    | 7.50E+06 | 7.50E+09 |\n",
      "| (2, 0, ...)       | 5.87E+03 | 5.87E+03 | 5.87E+03 | 36.44  | 60.89    | 5.63E+06 | 5.63E+09 |\n",
      "| (1, 1, 1, 0, ...) | 7.91E+05 | 7.91E+05 | 7.91E+05 | 58.08  | 185.68   | 7.88E+09 | 7.88E+13 |\n",
      "| (2, 1, 0, ...)    | 5.28E+05 | 5.28E+05 | 5.28E+05 | 57.25  | 151.18   | 5.25E+09 | 5.25E+13 |\n",
      "| (3, 0, ...)       | 2.86E+05 | 2.86E+05 | 2.86E+05 | 55.67  | 118.12   | 2.84E+09 | 2.84E+13 |\n",
      "| (1, 1, 1, 1, 0)   | 1.42E+08 | 1.42E+08 | 1.42E+08 | 77.64  | 2.04E+03 | 1.42E+13 | 1.42E+18 |\n",
      "| (2, 1, 1, 0, ...) | 8.89E+07 | 8.89E+07 | 8.89E+07 | 75.26  | 1.36E+03 | 8.86E+12 | 8.86E+17 |\n",
      "| (2, 2, 0, ...)    | 5.64E+07 | 5.64E+07 | 5.64E+07 | 73.66  | 932.89   | 5.61E+12 | 5.61E+17 |\n",
      "| (3, 1, 0, ...)    | 4.35E+07 | 4.35E+07 | 4.35E+07 | 72.87  | 760.23   | 4.33E+12 | 4.33E+17 |\n",
      "| (4, 0, ...)       | 1.86E+07 | 1.86E+07 | 1.86E+07 | 71.42  | 402.92   | 1.85E+12 | 1.85E+17 |\n",
      "| (1, 1, 1, 1, 1)   | 1.06E+08 | 1.06E+08 | 1.06E+08 | 212.95 | 1.20E+04 | 1.06E+12 | 1.06E+16 |\n",
      "| (2, 1, 1, 1, 0)   | 3.97E+09 | 3.97E+09 | 3.97E+09 | 174.75 | 1.23E+04 | 3.90E+15 | 3.90E+21 |\n",
      "| (2, 2, 1, 0, ...) | 4.44E+09 | 4.44E+09 | 4.44E+09 | 145.51 | 1.02E+04 | 4.39E+15 | 4.39E+21 |\n",
      "| (3, 1, 1, 0, ...) | 4.27E+09 | 4.27E+09 | 4.27E+09 | 133.13 | 9.06E+03 | 4.22E+15 | 4.22E+21 |\n",
      "| (3, 2, 0, ...)    | 3.33E+09 | 3.33E+09 | 3.33E+09 | 120.30 | 6.65E+03 | 3.30E+15 | 3.30E+21 |\n",
      "| (4, 1, 0, ...)    | 2.57E+09 | 2.57E+09 | 2.57E+09 | 105.79 | 4.99E+03 | 2.54E+15 | 2.54E+21 |\n",
      "| (5, 0, ...)       | 1.15E+09 | 1.15E+09 | 1.15E+09 | 95.24  | 2.29E+03 | 1.14E+15 | 1.14E+21 |\n",
      "+-------------------+----------+----------+----------+--------+----------+----------+----------+\n"
     ]
    }
   ],
   "source": [
    "n = 5\n",
    "results = {\n",
    "    \"base\": der_bounds_layer_norm(n, 10, 10.0, 1.0,),\n",
    "    \"a-\": der_bounds_layer_norm(n, 5, 10.0, 1.0,),\n",
    "    \"a+\": der_bounds_layer_norm(n, 20, 10.0, 1.0,),\n",
    "    \"b--\": der_bounds_layer_norm(n, 20, .1, 1.0,),\n",
    "    \"b-\": der_bounds_layer_norm(n, 10, 1.0, 1.0,),\n",
    "    \"b+\": der_bounds_layer_norm(n, 10, 100.0, 1.0,),\n",
    "    \"b++\": der_bounds_layer_norm(n, 10, 1000.0, 1.0,),\n",
    "}\n",
    "print(pretty_results(n, 5, dict(results)))"
   ]
  },
  {
   "cell_type": "markdown",
   "id": "0ba6a950-f76b-416a-8542-0a767a9ca43c",
   "metadata": {},
   "source": [
    "## Neural Network"
   ]
  },
  {
   "cell_type": "code",
   "execution_count": 18,
   "id": "75612b46-6f28-47f2-a013-7a0919c4afba",
   "metadata": {},
   "outputs": [],
   "source": [
    "from src.blocks.NeuralNet import der_bounds_neural_network"
   ]
  },
  {
   "cell_type": "code",
   "execution_count": 29,
   "id": "29cb2453-580c-4f07-bea8-997c7fa2cd5d",
   "metadata": {},
   "outputs": [
    {
     "name": "stdout",
     "output_type": "stream",
     "text": [
      "+----------------------------+----------+----------+----------+----------+\n",
      "| Type                       | softplus | tanh     | GeLU     | SWISH    |\n",
      "+----------------------------+----------+----------+----------+----------+\n",
      "| (1, 0, ...)                | 17.00    | 129.00   | 73.25    | 71.39    |\n",
      "| (1, 1, 0, ...)             | 22.16    | 384.00   | 103.22   | 102.39   |\n",
      "| (2, 0, ...)                | 50.47    | 1.02E+03 | 237.41   | 236.78   |\n",
      "| (1, 1, 1, 0, ...)          | 30.16    | 896.00   | 151.46   | 122.11   |\n",
      "| (2, 1, 0, ...)             | 76.31    | 2.82E+03 | 399.40   | 283.67   |\n",
      "| (3, 0, ...)                | 236.94   | 8.96E+03 | 1.25E+03 | 870.75   |\n",
      "| (1, 1, 1, 1, 0, ...)       | 38.33    | 1.92E+03 | 257.73   | 154.11   |\n",
      "| (2, 1, 1, 0, ...)          | 125.68   | 9.98E+03 | 1.15E+03 | 500.23   |\n",
      "| (2, 2, 0, ...)             | 267.71   | 2.20E+04 | 2.52E+03 | 1.06E+03 |\n",
      "| (3, 1, 0, ...)             | 393.39   | 3.20E+04 | 3.67E+03 | 1.56E+03 |\n",
      "| (4, 0, ...)                | 1.34E+03 | 9.83E+04 | 1.16E+04 | 5.33E+03 |\n",
      "| (1, 1, 1, 1, 1, 0, ...)    | 54.32    | 3.97E+03 | 535.68   | 196.23   |\n",
      "| (2, 1, 1, 1, 0, ...)       | 492.57   | 5.71E+04 | 7.74E+03 | 1.40E+03 |\n",
      "| (2, 2, 1, 0, ...)          | 1.08E+03 | 1.26E+05 | 1.72E+04 | 3.06E+03 |\n",
      "| (3, 1, 1, 0, ...)          | 1.57E+03 | 1.84E+05 | 2.49E+04 | 4.46E+03 |\n",
      "| (3, 2, 0, ...)             | 2.60E+03 | 2.97E+05 | 4.03E+04 | 7.49E+03 |\n",
      "| (4, 1, 0, ...)             | 4.31E+03 | 4.80E+05 | 6.51E+04 | 1.26E+04 |\n",
      "| (5, 0, ...)                | 1.33E+04 | 1.34E+06 | 1.81E+05 | 4.13E+04 |\n",
      "| (1, 1, 1, 1, 1, 1, 0, ...) | 80.46    | 1.40E+04 | 1.36E+03 | 292.23   |\n",
      "| (2, 1, 1, 1, 1, 0, ...)    | 3.30E+03 | 1.23E+06 | 1.02E+05 | 1.21E+04 |\n",
      "| (2, 2, 1, 1, 0, ...)       | 7.22E+03 | 2.70E+06 | 2.24E+05 | 2.65E+04 |\n",
      "| (2, 2, 2, 0, ...)          | 1.21E+04 | 4.50E+06 | 3.74E+05 | 4.44E+04 |\n",
      "| (3, 1, 1, 1, 0, ...)       | 1.05E+04 | 3.93E+06 | 3.26E+05 | 3.86E+04 |\n",
      "| (3, 2, 1, 0, ...)          | 1.62E+04 | 6.00E+06 | 4.99E+05 | 5.94E+04 |\n",
      "| (3, 3, 0, ...)             | 2.96E+04 | 1.07E+07 | 8.96E+05 | 1.09E+05 |\n",
      "| (4, 1, 1, 0, ...)          | 2.53E+04 | 9.30E+06 | 7.74E+05 | 9.28E+04 |\n",
      "| (4, 2, 0, ...)             | 3.53E+04 | 1.27E+07 | 1.06E+06 | 1.29E+05 |\n",
      "| (5, 1, 0, ...)             | 5.91E+04 | 2.06E+07 | 1.73E+06 | 2.17E+05 |\n",
      "| (6, 0, ...)                | 1.61E+05 | 4.98E+07 | 4.27E+06 | 5.91E+05 |\n",
      "+----------------------------+----------+----------+----------+----------+\n",
      "CPU times: user 1.38 s, sys: 170 ms, total: 1.55 s\n",
      "Wall time: 307 ms\n"
     ]
    }
   ],
   "source": [
    "%%time\n",
    "n = 6\n",
    "k = 10\n",
    "softplus = der_bounds_neural_network(n, k, 64, 1., 1.0, \"softplus\", by_level)\n",
    "tanh = der_bounds_neural_network(n, k, 64, 1., 1.0, \"tanh\", by_level)\n",
    "GeLU = der_bounds_neural_network(n, k, 64, 1., 1.0, \"GeLU\", by_level)\n",
    "SWISH = der_bounds_neural_network(n, k, 64, 1., 1.0, \"SWISH\", by_level)\n",
    "results = dict(softplus=softplus, tanh=tanh, GeLU=GeLU, SWISH=SWISH)\n",
    "print(pretty_results(n, k, results))"
   ]
  },
  {
   "cell_type": "code",
   "execution_count": 30,
   "id": "79e05d29-493b-4dfd-ad69-84595f773e02",
   "metadata": {},
   "outputs": [
    {
     "name": "stdout",
     "output_type": "stream",
     "text": [
      "+----------+--------+----------+----------+----------+----------+----------+\n",
      "|          | 1      | 2        | 3        | 4        | 5        | 6        |\n",
      "+----------+--------+----------+----------+----------+----------+----------+\n",
      "| softplus | 17.00  | 50.47    | 236.94   | 1.34E+03 | 1.33E+04 | 1.61E+05 |\n",
      "| tanh     | 129.00 | 1.02E+03 | 8.96E+03 | 9.83E+04 | 1.34E+06 | 4.98E+07 |\n",
      "| GeLU     | 73.25  | 237.41   | 1.25E+03 | 1.16E+04 | 1.81E+05 | 4.27E+06 |\n",
      "| SWISH    | 71.39  | 236.78   | 870.75   | 5.33E+03 | 4.13E+04 | 5.91E+05 |\n",
      "+----------+--------+----------+----------+----------+----------+----------+\n"
     ]
    }
   ],
   "source": [
    "print(pretty_max_values(n, k, results))"
   ]
  },
  {
   "cell_type": "code",
   "execution_count": 39,
   "id": "ff4984a7-fc85-4d86-8fd3-0c23ccc859a7",
   "metadata": {},
   "outputs": [],
   "source": [
    "from src.blocks.NeuralNet import der_bound_activation"
   ]
  },
  {
   "cell_type": "markdown",
   "id": "187c40bb-f042-49af-943e-223594836d5f",
   "metadata": {},
   "source": [
    "## Attention"
   ]
  },
  {
   "cell_type": "code",
   "execution_count": 32,
   "id": "7f018c08-6bf8-4adb-bc14-78c67e38c442",
   "metadata": {},
   "outputs": [],
   "source": [
    "from src.blocks.Attention import der_bounds_dp, der_bounds_softmax, der_bounds_softmax_circ_dp, der_bounds_attention, der_bounds_multi_head_attention"
   ]
  },
  {
   "cell_type": "code",
   "execution_count": 37,
   "id": "1b6584df-3c29-4d87-af47-1daff28a7d27",
   "metadata": {},
   "outputs": [
    {
     "name": "stdout",
     "output_type": "stream",
     "text": [
      "+-------------------------+-------+---------+------------+-----------+----------------------+\n",
      "| Type                    | dp    | Softmax | Softmax°dp | Attention | Multi-Head Attention |\n",
      "+-------------------------+-------+---------+------------+-----------+----------------------+\n",
      "| (1, 0, ...)             | 90.00 | 1.00    | 5.35E+03   | 8.03E+04  | 2.41E+05             |\n",
      "| (1, 1, 0, ...)          | 90.00 | 2.00    | 2.75E+05   | 4.29E+06  | 2.57E+07             |\n",
      "| (2, 0, ...)             | 90.00 | 2.00    | 2.75E+05   | 4.29E+06  | 2.57E+07             |\n",
      "| (1, 1, 1, 0, ...)       | 90.00 | 6.00    | 1.09E+09   | 1.64E+10  | 2.96E+11             |\n",
      "| (2, 1, 0, ...)          | 90.00 | 6.00    | 1.09E+09   | 1.64E+10  | 2.96E+11             |\n",
      "| (3, 0, ...)             | 90.00 | 6.00    | 1.09E+09   | 1.64E+10  | 2.96E+11             |\n",
      "| (1, 1, 1, 1, 0, ...)    | 90.00 | 24.00   | 6.36E+12   | 9.55E+13  | 6.88E+15             |\n",
      "| (2, 1, 1, 0, ...)       | 90.00 | 24.00   | 6.36E+12   | 9.55E+13  | 6.88E+15             |\n",
      "| (2, 2, 0, ...)          | 90.00 | 24.00   | 6.36E+12   | 9.55E+13  | 6.88E+15             |\n",
      "| (3, 1, 0, ...)          | 90.00 | 24.00   | 6.36E+12   | 9.55E+13  | 6.88E+15             |\n",
      "| (4, 0, ...)             | 90.00 | 24.00   | 6.36E+12   | 9.55E+13  | 6.88E+15             |\n",
      "| (1, 1, 1, 1, 1, 0, ...) | 90.00 | 120.00  | 9.33E+15   | 1.40E+17  | 5.06E+19             |\n",
      "| (2, 1, 1, 1, 0, ...)    | 90.00 | 120.00  | 9.33E+15   | 1.40E+17  | 5.06E+19             |\n",
      "| (2, 2, 1, 0, ...)       | 90.00 | 120.00  | 9.33E+15   | 1.40E+17  | 5.06E+19             |\n",
      "| (3, 1, 1, 0, ...)       | 90.00 | 120.00  | 9.33E+15   | 1.40E+17  | 5.06E+19             |\n",
      "| (3, 2, 0, ...)          | 90.00 | 120.00  | 9.33E+15   | 1.40E+17  | 5.06E+19             |\n",
      "| (4, 1, 0, ...)          | 90.00 | 120.00  | 9.33E+15   | 1.40E+17  | 5.06E+19             |\n",
      "| (5, 0, ...)             | 90.00 | 120.00  | 9.33E+15   | 1.40E+17  | 5.06E+19             |\n",
      "+-------------------------+-------+---------+------------+-----------+----------------------+\n"
     ]
    }
   ],
   "source": [
    "by_level = True\n",
    "n = 5\n",
    "input_dim = 3\n",
    "sequence_length = 5\n",
    "k = input_dim * sequence_length\n",
    "ndim_k = 3\n",
    "\n",
    "results = {\n",
    "r\"dp\" : der_bounds_dp(n, input_dim * sequence_length, ndim_k, max_weight_k=1.0, max_weight_q=1.0, domain_bound=1.0, by_level=by_level),\n",
    "r\"Softmax\" : der_bounds_softmax(n, input_dim * sequence_length),\n",
    "r\"Softmax°dp\" : der_bounds_softmax_circ_dp(n, input_dim, sequence_length, ndim_k, max_weight_k=1.0, max_weight_q=1.0, domain_bound=1.0, by_level=by_level),\n",
    "r\"Attention\" : der_bounds_attention(n, input_dim, sequence_length, ndim_k, max_weight_k=1.0, max_weight_q=1.0, max_weight_v=1.0, domain_bound=1.0, by_level=by_level),\n",
    "r\"Multi-Head Attention\" : der_bounds_multi_head_attention(\n",
    "    n, input_dim, sequence_length, ndim_k, ndim_v=ndim_k, max_weight_k=1.0, max_weight_q=1.0, max_weight_w=1.0, max_weight_v=1.0, domain_bound=1.0, by_level=by_level\n",
    ")\n",
    "}\n",
    "print(pretty_results(n, k, results))"
   ]
  },
  {
   "cell_type": "code",
   "execution_count": 45,
   "id": "1e6e803b-9d8c-4d87-90b1-ee5041cc5747",
   "metadata": {},
   "outputs": [],
   "source": [
    "from src.blocks.TransfomerBlock import der_bounds_tblock"
   ]
  },
  {
   "cell_type": "markdown",
   "id": "c363aa1f-ca68-4884-86ea-1df8fb671686",
   "metadata": {},
   "source": [
    "## Transformer Block"
   ]
  },
  {
   "cell_type": "code",
   "execution_count": 46,
   "id": "61204f83-86d4-4058-9555-3cad1c4ca45c",
   "metadata": {},
   "outputs": [
    {
     "name": "stdout",
     "output_type": "stream",
     "text": [
      "Computing Bound for Multi-Head Attention\n",
      "+--------+------+------+------+------+-------+\n",
      "|        | 1    | 2    | 3    | 4    | 5     |\n",
      "+--------+------+------+------+------+-------+\n",
      "| tblock | 0.08 | 0.46 | 1.84 | 9.18 | 55.08 |\n",
      "+--------+------+------+------+------+-------+\n",
      "Computing Bound for Layer Norm 1\n",
      "+--------+------+------+------+------+------+\n",
      "|        | 1    | 2    | 3    | 4    | 5    |\n",
      "+--------+------+------+------+------+------+\n",
      "| tblock | 0.02 | 0.05 | 0.07 | 0.09 | 0.10 |\n",
      "+--------+------+------+------+------+------+\n",
      "Computing Bound for Neural Net\n",
      "+--------+------+------+------+------+------+\n",
      "|        | 1    | 2    | 3    | 4    | 5    |\n",
      "+--------+------+------+------+------+------+\n",
      "| tblock | 0.02 | 0.06 | 0.29 | 1.54 | 9.60 |\n",
      "+--------+------+------+------+------+------+\n",
      "Computing Bound for Layer Norm 2\n",
      "+--------+------+------+------+------+------+\n",
      "|        | 1    | 2    | 3    | 4    | 5    |\n",
      "+--------+------+------+------+------+------+\n",
      "| tblock | 0.17 | 0.52 | 0.69 | 0.86 | 1.03 |\n",
      "+--------+------+------+------+------+------+\n",
      "Combining Results 1\n",
      "+--------+-------+-------+-------+-------+-------+\n",
      "|        | 1     | 2     | 3     | 4     | 5     |\n",
      "+--------+-------+-------+-------+-------+-------+\n",
      "| tblock | 20.37 | 20.42 | 20.68 | 23.82 | 47.00 |\n",
      "+--------+-------+-------+-------+-------+-------+\n",
      "Combining Results 2\n",
      "+--------+----------+----------+----------+----------+----------+\n",
      "|        | 1        | 2        | 3        | 4        | 5        |\n",
      "+--------+----------+----------+----------+----------+----------+\n",
      "| tblock | 1.22E+03 | 2.55E+03 | 1.83E+06 | 3.21E+09 | 1.33E+12 |\n",
      "+--------+----------+----------+----------+----------+----------+\n",
      "Combining Results 3\n",
      "+--------+--------+----------+----------+----------+----------+\n",
      "|        | 1      | 2        | 3        | 4        | 5        |\n",
      "+--------+--------+----------+----------+----------+----------+\n",
      "| tblock | 212.70 | 1.53E+06 | 7.47E+09 | 4.55E+13 | 3.75E+16 |\n",
      "+--------+--------+----------+----------+----------+----------+\n"
     ]
    }
   ],
   "source": [
    "n = 5\n",
    "input_dim = 5\n",
    "output_dim = 1\n",
    "sequence_length = 1\n",
    "k = input_dim * sequence_length\n",
    "ndim_k = 3\n",
    "mw_activ = .01\n",
    "mw_nn = .001\n",
    "mw_ln = .01\n",
    "\n",
    "result, all_res = der_bounds_tblock(\n",
    "    n, input_dim, output_dim, sequence_length, ndim_k, ndim_v=ndim_k, ndim_nn=64,\n",
    "    max_weight_k=mw_activ, max_weight_q=mw_activ, max_weight_v=mw_activ, max_weight_w=mw_activ,\n",
    "    max_weight_ln1=mw_ln/10, max_weight_a=mw_ln, max_weight_b=mw_nn, max_weight_ln2=mw_ln,\n",
    "    domain_bound=1.0, verbose=2, by_level=by_level,\n",
    ")\n",
    "print(pretty_max_values(n, k, dict(tblock=result)))"
   ]
  }
 ],
 "metadata": {
  "kernelspec": {
   "display_name": "Python 3 (ipykernel)",
   "language": "python",
   "name": "python3"
  },
  "language_info": {
   "codemirror_mode": {
    "name": "ipython",
    "version": 3
   },
   "file_extension": ".py",
   "mimetype": "text/x-python",
   "name": "python",
   "nbconvert_exporter": "python",
   "pygments_lexer": "ipython3",
   "version": "3.11.5"
  }
 },
 "nbformat": 4,
 "nbformat_minor": 5
}
