{
 "cells": [
  {
   "cell_type": "code",
   "execution_count": 1,
   "id": "96bc92e1-a76a-4271-b47e-2913f7b8e43d",
   "metadata": {},
   "outputs": [],
   "source": [
    "from dataclasses import dataclass\n",
    "import numpy as np\n",
    "import numba as nb\n",
    "from numba import njit, prange\n",
    "from tqdm.auto import tqdm\n",
    "from numba.typed import List, Dict\n",
    "from scipy.special import factorial\n",
    "from prettytable import PrettyTable "
   ]
  },
  {
   "cell_type": "code",
   "execution_count": 2,
   "id": "cfa2688e-4071-4f5b-8a45-bc96e5a2278f",
   "metadata": {},
   "outputs": [],
   "source": [
    "%load_ext autoreload\n",
    "%autoreload 2"
   ]
  },
  {
   "cell_type": "markdown",
   "id": "388e42d4-eb6c-4ee5-b297-925e974394a6",
   "metadata": {},
   "source": [
    "## Layer Norm"
   ]
  },
  {
   "cell_type": "code",
   "execution_count": 3,
   "id": "68c84745-615e-49c2-b62d-b0cdadbaf393",
   "metadata": {},
   "outputs": [],
   "source": [
    "from src.blocks.LayerNorm import der_bound_variance, der_bound_g, der_bounds_g, \\\n",
    "    der_bounds_variance, der_bounds_g_circ_variance"
   ]
  },
  {
   "cell_type": "code",
   "execution_count": 8,
   "id": "221038b0-026f-494c-acb9-aff71b307842",
   "metadata": {},
   "outputs": [],
   "source": [
    "from src.blocks.LayerNorm import der_bounds_layer_norm\n",
    "from src.PrintUtil import pretty_results"
   ]
  },
  {
   "cell_type": "code",
   "execution_count": 79,
   "id": "baddbf29-0fe6-4218-881a-e48239391062",
   "metadata": {},
   "outputs": [
    {
     "name": "stdout",
     "output_type": "stream",
     "text": [
      "+-------------------------+-------+-------+----------+------------+\n",
      "| Type                    | g     | var   | g ° var  | layer norm |\n",
      "+-------------------------+-------+-------+----------+------------+\n",
      "| (1, 0, ...)             | 0.75  | 20.00 | 32.17    | 321.71     |\n",
      "| (1, 1, 0, ...)          | NAN   | 2.00  | 768.67   | 64.34      |\n",
      "| (2, 0, ...)             | 0.94  | 2.00  | 580.42   | 64.34      |\n",
      "| (1, 1, 1, 0, ...)       | NAN   | 0.00  | 7.89E+04 | 2.31E+03   |\n",
      "| (2, 1, 0, ...)          | NAN   | 0.00  | 5.26E+04 | 2.12E+03   |\n",
      "| (3, 0, ...)             | 1.64  | 0.00  | 2.85E+04 | 1.74E+03   |\n",
      "| (1, 1, 1, 1, 0, ...)    | NAN   | 0.00  | 1.42E+07 | 3.16E+05   |\n",
      "| (2, 1, 1, 0, ...)       | NAN   | 0.00  | 8.87E+06 | 2.63E+05   |\n",
      "| (2, 2, 0, ...)          | NAN   | 0.00  | 5.62E+06 | 2.10E+05   |\n",
      "| (3, 1, 0, ...)          | NAN   | 0.00  | 4.33E+06 | 1.86E+05   |\n",
      "| (4, 0, ...)             | 3.69  | 0.00  | 1.85E+06 | 1.14E+05   |\n",
      "| (1, 1, 1, 1, 1, 0, ...) | NAN   | 0.00  | 3.55E+06 | 7.10E+07   |\n",
      "| (2, 1, 1, 1, 0, ...)    | NAN   | 0.00  | 3.92E+08 | 5.50E+07   |\n",
      "| (2, 2, 1, 0, ...)       | NAN   | 0.00  | 4.40E+08 | 4.11E+07   |\n",
      "| (3, 1, 1, 0, ...)       | NAN   | 0.00  | 4.23E+08 | 3.53E+07   |\n",
      "| (3, 2, 0, ...)          | NAN   | 0.00  | 3.31E+08 | 2.55E+07   |\n",
      "| (4, 1, 0, ...)          | NAN   | 0.00  | 2.55E+08 | 1.92E+07   |\n",
      "| (5, 0, ...)             | 10.15 | 0.00  | 1.14E+08 | 9.23E+06   |\n",
      "+-------------------------+-------+-------+----------+------------+\n"
     ]
    }
   ],
   "source": [
    "n = 5\n",
    "k = 10\n",
    "results = {\n",
    "    \"g\": der_bounds_g(n),\n",
    "    \"var\": der_bounds_variance(n, k, 10.0, 1.0,),\n",
    "    \"g ° var\": der_bounds_g_circ_variance(n, k, 10.0, 1.0,),\n",
    "    \"layer norm\": der_bounds_layer_norm(n, k, 10.0, 1.0,)\n",
    "}\n",
    "print(pretty_results(n, k, dict(results)))"
   ]
  },
  {
   "cell_type": "markdown",
   "id": "0ba6a950-f76b-416a-8542-0a767a9ca43c",
   "metadata": {},
   "source": [
    "## Neural Network"
   ]
  },
  {
   "cell_type": "code",
   "execution_count": 11,
   "id": "75612b46-6f28-47f2-a013-7a0919c4afba",
   "metadata": {},
   "outputs": [],
   "source": [
    "from src.blocks.NeuralNet import der_bounds_neural_network"
   ]
  },
  {
   "cell_type": "code",
   "execution_count": 78,
   "id": "29cb2453-580c-4f07-bea8-997c7fa2cd5d",
   "metadata": {},
   "outputs": [
    {
     "name": "stdout",
     "output_type": "stream",
     "text": [
      "+----------------------------+----------+\n",
      "| Type                       | Bounds   |\n",
      "+----------------------------+----------+\n",
      "| (1, 0, ...)                | 65.00    |\n",
      "| (1, 1, 0, ...)             | 128.00   |\n",
      "| (2, 0, ...)                | 320.00   |\n",
      "| (1, 1, 1, 0, ...)          | 192.00   |\n",
      "| (2, 1, 0, ...)             | 512.00   |\n",
      "| (3, 0, ...)                | 1.60E+03 |\n",
      "| (1, 1, 1, 1, 0, ...)       | 256.00   |\n",
      "| (2, 1, 1, 0, ...)          | 896.00   |\n",
      "| (2, 2, 0, ...)             | 1.92E+03 |\n",
      "| (3, 1, 0, ...)             | 2.82E+03 |\n",
      "| (4, 0, ...)                | 9.41E+03 |\n",
      "| (1, 1, 1, 1, 1, 0, ...)    | 320.00   |\n",
      "| (2, 1, 1, 1, 0, ...)       | 2.18E+03 |\n",
      "| (2, 2, 1, 0, ...)          | 4.74E+03 |\n",
      "| (3, 1, 1, 0, ...)          | 6.91E+03 |\n",
      "| (3, 2, 0, ...)             | 1.16E+04 |\n",
      "| (4, 1, 0, ...)             | 1.97E+04 |\n",
      "| (5, 0, ...)                | 6.53E+04 |\n",
      "| (1, 1, 1, 1, 1, 1, 0, ...) | 384.00   |\n",
      "| (2, 1, 1, 1, 1, 0, ...)    | 8.45E+03 |\n",
      "| (2, 2, 1, 1, 0, ...)       | 1.84E+04 |\n",
      "| (2, 2, 2, 0, ...)          | 3.11E+04 |\n",
      "| (3, 1, 1, 1, 0, ...)       | 2.69E+04 |\n",
      "| (3, 2, 1, 0, ...)          | 4.19E+04 |\n",
      "| (3, 3, 0, ...)             | 7.92E+04 |\n",
      "| (4, 1, 1, 0, ...)          | 6.64E+04 |\n",
      "| (4, 2, 0, ...)             | 9.54E+04 |\n",
      "| (5, 1, 0, ...)             | 1.67E+05 |\n",
      "| (6, 0, ...)                | 5.30E+05 |\n",
      "+----------------------------+----------+\n",
      "CPU times: user 384 ms, sys: 64.2 ms, total: 448 ms\n",
      "Wall time: 89.5 ms\n"
     ]
    }
   ],
   "source": [
    "%%time\n",
    "n = 6\n",
    "k = 10\n",
    "results = der_bounds_neural_network(n, k, 64, 1.0, 1.0)\n",
    "print(pretty_results(n, k, dict(Bounds=results)))"
   ]
  },
  {
   "cell_type": "markdown",
   "id": "187c40bb-f042-49af-943e-223594836d5f",
   "metadata": {},
   "source": [
    "## Attention"
   ]
  },
  {
   "cell_type": "code",
   "execution_count": 81,
   "id": "7f018c08-6bf8-4adb-bc14-78c67e38c442",
   "metadata": {},
   "outputs": [],
   "source": [
    "from src.blocks.Attention import der_bounds_dp, der_bounds_softmax, der_bounds_softmax_circ_dp, der_bounds_attention, der_bounds_multi_head_attention"
   ]
  },
  {
   "cell_type": "code",
   "execution_count": 83,
   "id": "1b6584df-3c29-4d87-af47-1daff28a7d27",
   "metadata": {},
   "outputs": [
    {
     "name": "stdout",
     "output_type": "stream",
     "text": [
      "+-------------------------+----------+---------+------------+-----------+----------------------+\n",
      "| Type                    | dp       | Softmax | Softmax°dp | Attention | Multi-Head Attention |\n",
      "+-------------------------+----------+---------+------------+-----------+----------------------+\n",
      "| (1, 0, ...)             | 8.19E+04 | 1.00    | 1.25E+08   | 3.20E+11  | 5.12E+12             |\n",
      "| (1, 1, 0, ...)          | 32.00    | 2.00    | 4.19E+13   | 1.07E+17  | 1.72E+18             |\n",
      "| (2, 0, ...)             | 32.00    | 2.00    | 3.14E+13   | 8.04E+16  | 2.57E+18             |\n",
      "| (1, 1, 1, 0, ...)       | 0.00     | 6.00    | 1.18E+21   | 3.01E+24  | 4.82E+25             |\n",
      "| (2, 1, 0, ...)          | 0.00     | 6.00    | 7.84E+20   | 2.01E+24  | 6.42E+25             |\n",
      "| (3, 0, ...)             | 0.00     | 6.00    | 4.25E+20   | 1.09E+24  | 1.04E+26             |\n",
      "| (1, 1, 1, 1, 0, ...)    | 0.00     | 24.00   | 6.06E+28   | 1.55E+32  | 2.48E+33             |\n",
      "| (2, 1, 1, 0, ...)       | 0.00     | 24.00   | 3.79E+28   | 9.70E+31  | 3.10E+33             |\n",
      "| (2, 2, 0, ...)          | 0.00     | 24.00   | 2.40E+28   | 6.14E+31  | 3.93E+33             |\n",
      "| (3, 1, 0, ...)          | 0.00     | 24.00   | 1.85E+28   | 4.74E+31  | 4.55E+33             |\n",
      "| (4, 0, ...)             | 0.00     | 24.00   | 7.89E+27   | 2.02E+31  | 7.76E+33             |\n",
      "| (1, 1, 1, 1, 1, 0, ...) | 0.00     | 120.00  | 5.92E+25   | 7.76E+32  | 1.24E+34             |\n",
      "| (2, 1, 1, 1, 0, ...)    | 0.00     | 120.00  | 4.88E+35   | 1.25E+39  | 3.99E+40             |\n",
      "| (2, 2, 1, 0, ...)       | 0.00     | 120.00  | 5.48E+35   | 1.40E+39  | 8.99E+40             |\n",
      "| (3, 1, 1, 0, ...)       | 0.00     | 120.00  | 5.28E+35   | 1.35E+39  | 1.30E+41             |\n",
      "| (3, 2, 0, ...)          | 0.00     | 120.00  | 4.13E+35   | 1.06E+39  | 2.03E+41             |\n",
      "| (4, 1, 0, ...)          | 0.00     | 120.00  | 3.18E+35   | 8.15E+38  | 3.13E+41             |\n",
      "| (5, 0, ...)             | 0.00     | 120.00  | 1.43E+35   | 3.65E+38  | 7.01E+41             |\n",
      "+-------------------------+----------+---------+------------+-----------+----------------------+\n"
     ]
    }
   ],
   "source": [
    "n = 5\n",
    "input_dim = 64\n",
    "sequence_length=40\n",
    "k = input_dim * sequence_length\n",
    "ndim_k = 16\n",
    "\n",
    "results = {\n",
    "r\"dp\" : der_bounds_dp(n, input_dim * sequence_length, ndim_k, max_weight_k=1.0, max_weight_q=1.0, domain_bound=1.0),\n",
    "r\"Softmax\" : der_bounds_softmax(n, input_dim * sequence_length),\n",
    "r\"Softmax°dp\" : der_bounds_softmax_circ_dp(n, input_dim, sequence_length, ndim_k, max_weight_k=1.0, max_weight_q=1.0, domain_bound=1.0),\n",
    "r\"Attention\" : der_bounds_attention(n, input_dim, sequence_length, ndim_k, max_weight_k=1.0, max_weight_q=1.0, max_weight_v=1.0, domain_bound=1.0),\n",
    "r\"Multi-Head Attention\" : der_bounds_multi_head_attention(\n",
    "    n, input_dim, sequence_length, ndim_k, ndim_v=ndim_k, max_weight_k=1.0, max_weight_q=1.0, max_weight_w=1.0, max_weight_v=1.0, domain_bound=1.0\n",
    ")\n",
    "}\n",
    "print(pretty_results(n, k, results))"
   ]
  },
  {
   "cell_type": "code",
   "execution_count": null,
   "id": "1e6e803b-9d8c-4d87-90b1-ee5041cc5747",
   "metadata": {},
   "outputs": [],
   "source": []
  },
  {
   "cell_type": "code",
   "execution_count": null,
   "id": "61204f83-86d4-4058-9555-3cad1c4ca45c",
   "metadata": {},
   "outputs": [],
   "source": []
  },
  {
   "cell_type": "code",
   "execution_count": null,
   "id": "8d08c4c2-9987-4eb2-95e5-7307552ba53f",
   "metadata": {},
   "outputs": [],
   "source": []
  }
 ],
 "metadata": {
  "kernelspec": {
   "display_name": "Python 3 (ipykernel)",
   "language": "python",
   "name": "python3"
  },
  "language_info": {
   "codemirror_mode": {
    "name": "ipython",
    "version": 3
   },
   "file_extension": ".py",
   "mimetype": "text/x-python",
   "name": "python",
   "nbconvert_exporter": "python",
   "pygments_lexer": "ipython3",
   "version": "3.11.5"
  }
 },
 "nbformat": 4,
 "nbformat_minor": 5
}
