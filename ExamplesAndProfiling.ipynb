{
 "cells": [
  {
   "cell_type": "code",
   "execution_count": 1,
   "id": "305f0e96-32c4-4b59-a917-b0e05938d545",
   "metadata": {},
   "outputs": [],
   "source": [
    "from dataclasses import dataclass\n",
    "import numpy as np\n",
    "import numba as nb\n",
    "from numba import njit, prange\n",
    "from tqdm.auto import tqdm\n",
    "from numba.typed import List, Dict\n",
    "from scipy.special import factorial\n",
    "from prettytable import PrettyTable "
   ]
  },
  {
   "cell_type": "code",
   "execution_count": 2,
   "id": "35e66638-24d8-423c-9def-36aa7f74c848",
   "metadata": {},
   "outputs": [],
   "source": [
    "%load_ext autoreload\n",
    "%autoreload 2"
   ]
  },
  {
   "cell_type": "code",
   "execution_count": 3,
   "id": "22fc117f-2352-4ea0-bc92-300da6ff836d",
   "metadata": {},
   "outputs": [],
   "source": [
    "from src.Util import dt_factorial, _dt_factorial, dt_sum, _sort_and_fill, \\\n",
    "    sort_and_fill, binomial_coefficient, _fill_zeros, fill_zeros, _remove_tail, \\\n",
    "    remove_tail\n",
    "from src.DerivativeTypes import generate_derivative_types, _generate_derivative_types, \\\n",
    "    _generate_derivative_subtypes, generate_derivative_subtypes\n",
    "from src.Combinatorics import _compute_etas, compute_etas, _compute_zetas, compute_zetas, \\\n",
    "    _compute_sorted_zetas, compute_sorted_zetas, _number_of_representations, number_of_representations\n",
    "from src.Hashing import _der_type_to_hash, der_type_to_hash, _der_types_to_hashes, der_types_to_hashes\n",
    "from src.DerivativeBounds import _make_dbound_dict, make_dbound_dict"
   ]
  },
  {
   "cell_type": "code",
   "execution_count": 4,
   "id": "b926e963-2d4f-400b-9f25-524611156a9e",
   "metadata": {},
   "outputs": [],
   "source": [
    "from src.DerivativeBounds import _compute_cumulated_g_bounds_for_zeta, _compute_cumulated_g_bounds_for_eta, \\\n",
    "    _compute_cumulated_g_bounds_for_j, _compute_cumulated_g_bounds, compute_cumulated_g_bounds_for_zeta, compute_cumulated_g_bounds_for_eta, \\\n",
    "    compute_cumulated_g_bounds_for_j, compute_cumulated_g_bounds, compute_bound_for_alpha, _compute_bound_for_alpha"
   ]
  },
  {
   "cell_type": "markdown",
   "id": "cb0b7068-0bb3-4cb8-8df7-c5f9c55db611",
   "metadata": {},
   "source": [
    "## Generate Derivative Types"
   ]
  },
  {
   "cell_type": "code",
   "execution_count": 5,
   "id": "6e294fbd-7327-4019-af0d-6b2f0502624d",
   "metadata": {},
   "outputs": [
    {
     "data": {
      "text/plain": [
       "ListType[array(int16, 1d, C)]([[1 1 1 1 0 0], [2 1 1 0 0 0], [2 2 0 0 0 0], [3 1 0 0 0 0], [4 0 0 0 0 0], ...])"
      ]
     },
     "execution_count": 5,
     "metadata": {},
     "output_type": "execute_result"
    }
   ],
   "source": [
    "generate_derivative_types(4, 6)"
   ]
  },
  {
   "cell_type": "code",
   "execution_count": 6,
   "id": "315fd204-9303-40c8-8422-412957ad869d",
   "metadata": {},
   "outputs": [
    {
     "data": {
      "text/plain": [
       "[([1, 1, 1, 1, 0, 0], 4),\n",
       " ([2, 1, 1, 0, 0, 0], 4),\n",
       " ([2, 2, 0, 0, 0, 0], 4),\n",
       " ([3, 1, 0, 0, 0, 0], 4),\n",
       " ([4, 0, 0, 0, 0, 0], 4)]"
      ]
     },
     "execution_count": 6,
     "metadata": {},
     "output_type": "execute_result"
    }
   ],
   "source": [
    "[(list(l), sum(l)) for l in generate_derivative_types(4, 6)]"
   ]
  },
  {
   "cell_type": "code",
   "execution_count": 7,
   "id": "0893174d-e2a8-4458-aad0-cfde7b35db31",
   "metadata": {},
   "outputs": [
    {
     "name": "stdout",
     "output_type": "stream",
     "text": [
      "8.18 ms ± 517 µs per loop (mean ± std. dev. of 7 runs, 1 loop each)\n"
     ]
    }
   ],
   "source": [
    "%%timeit\n",
    "_generate_derivative_types(10, 500)"
   ]
  },
  {
   "cell_type": "code",
   "execution_count": 8,
   "id": "137426b2-942d-4d4d-82d8-54b682af403c",
   "metadata": {},
   "outputs": [
    {
     "name": "stdout",
     "output_type": "stream",
     "text": [
      "167 µs ± 8.64 µs per loop (mean ± std. dev. of 7 runs, 10,000 loops each)\n"
     ]
    }
   ],
   "source": [
    "%%timeit\n",
    "generate_derivative_types(10, 500)"
   ]
  },
  {
   "cell_type": "code",
   "execution_count": 9,
   "id": "89a4dddc-ae87-4815-858a-396a13e26f34",
   "metadata": {},
   "outputs": [
    {
     "data": {
      "text/plain": [
       "[([1, 0, 0, 0, 0, 0], 1),\n",
       " ([1, 1, 0, 0, 0, 0], 2),\n",
       " ([2, 0, 0, 0, 0, 0], 2),\n",
       " ([1, 1, 1, 0, 0, 0], 3),\n",
       " ([2, 1, 0, 0, 0, 0], 3),\n",
       " ([3, 0, 0, 0, 0, 0], 3),\n",
       " ([1, 1, 1, 1, 0, 0], 4),\n",
       " ([2, 1, 1, 0, 0, 0], 4),\n",
       " ([2, 2, 0, 0, 0, 0], 4),\n",
       " ([3, 1, 0, 0, 0, 0], 4),\n",
       " ([4, 0, 0, 0, 0, 0], 4)]"
      ]
     },
     "execution_count": 9,
     "metadata": {},
     "output_type": "execute_result"
    }
   ],
   "source": [
    "[(list(l), sum(l)) for l in generate_derivative_subtypes(4, 6)]"
   ]
  },
  {
   "cell_type": "code",
   "execution_count": 10,
   "id": "91f0c500-6cdc-4e23-96da-226b857411c3",
   "metadata": {},
   "outputs": [
    {
     "name": "stdout",
     "output_type": "stream",
     "text": [
      "1.2 ms ± 21.8 µs per loop (mean ± std. dev. of 7 runs, 1,000 loops each)\n"
     ]
    }
   ],
   "source": [
    "%%timeit\n",
    "_generate_derivative_subtypes(10, 500)"
   ]
  },
  {
   "cell_type": "code",
   "execution_count": 11,
   "id": "3877ae18-4184-4351-a708-87d66622625f",
   "metadata": {},
   "outputs": [
    {
     "name": "stdout",
     "output_type": "stream",
     "text": [
      "510 µs ± 24.7 µs per loop (mean ± std. dev. of 7 runs, 1,000 loops each)\n"
     ]
    }
   ],
   "source": [
    "%%timeit\n",
    "generate_derivative_subtypes(10, 500)"
   ]
  },
  {
   "cell_type": "code",
   "execution_count": 12,
   "id": "3726a0af-7c11-4902-8047-224976eb9164",
   "metadata": {},
   "outputs": [
    {
     "name": "stdout",
     "output_type": "stream",
     "text": [
      "Sorted multi-indices with k entries summing up to n:\n",
      "+------+---+---+---+---+----+-----+\n",
      "| k\\n  | 1 | 2 | 3 | 5 | 10 |  20 |\n",
      "+------+---+---+---+---+----+-----+\n",
      "|  1   | 1 | 1 | 1 | 1 | 1  |  1  |\n",
      "|  2   | 1 | 2 | 2 | 3 | 6  |  11 |\n",
      "|  3   | 1 | 2 | 3 | 5 | 14 |  44 |\n",
      "|  5   | 1 | 2 | 3 | 7 | 30 | 192 |\n",
      "|  10  | 1 | 2 | 3 | 7 | 42 | 530 |\n",
      "|  25  | 1 | 2 | 3 | 7 | 42 | 627 |\n",
      "|  50  | 1 | 2 | 3 | 7 | 42 | 627 |\n",
      "| 100  | 1 | 2 | 3 | 7 | 42 | 627 |\n",
      "| 250  | 1 | 2 | 3 | 7 | 42 | 627 |\n",
      "| 500  | 1 | 2 | 3 | 7 | 42 | 627 |\n",
      "| 1000 | 1 | 2 | 3 | 7 | 42 | 627 |\n",
      "+------+---+---+---+---+----+-----+\n",
      "CPU times: user 39.2 ms, sys: 3.78 ms, total: 43 ms\n",
      "Wall time: 42.8 ms\n"
     ]
    }
   ],
   "source": [
    "%%time\n",
    "ns = [1, 2, 3, 5, 10, 20] # , 50\n",
    "ks = [1, 2, 3, 5, 10, 25, 50, 100, 250, 500, 1000]\n",
    "table = PrettyTable([\"k\\\\n\"] + [str(n) for n in ns])\n",
    "for k in ks:\n",
    "    table.add_row([str(k)] + [f\"{len(generate_derivative_types(n, k)):,}\" for n in ns])\n",
    "print(f'Sorted multi-indices with k entries summing up to n:')\n",
    "print(table)"
   ]
  },
  {
   "cell_type": "markdown",
   "id": "90b4ed93-4c12-40b2-9857-d2f05d5ecb8e",
   "metadata": {},
   "source": [
    "## Derivative Type Hashing"
   ]
  },
  {
   "cell_type": "code",
   "execution_count": 13,
   "id": "91308105-bec8-47c6-8add-f38c1c87edf6",
   "metadata": {},
   "outputs": [
    {
     "data": {
      "text/plain": [
       "[(array([1, 1, 1, 1, 0, 0], dtype=int16), 85),\n",
       " (array([2, 1, 1, 0, 0, 0], dtype=int16), 22),\n",
       " (array([2, 2, 0, 0, 0, 0], dtype=int16), 10),\n",
       " (array([3, 1, 0, 0, 0, 0], dtype=int16), 7),\n",
       " (array([4, 0, 0, 0, 0, 0], dtype=int16), 4)]"
      ]
     },
     "execution_count": 13,
     "metadata": {},
     "output_type": "execute_result"
    }
   ],
   "source": [
    "n = 4\n",
    "k = 6\n",
    "[(arr, der_type_to_hash(arr, n, k)) for arr in generate_derivative_types(n, k)]"
   ]
  },
  {
   "cell_type": "code",
   "execution_count": 14,
   "id": "deeb93a6-a8dc-4f7d-a014-3be7d2261b18",
   "metadata": {},
   "outputs": [
    {
     "name": "stdout",
     "output_type": "stream",
     "text": [
      "1958 1958\n"
     ]
    }
   ],
   "source": [
    "n=25; k=50\n",
    "hashes = der_types_to_hashes(generate_derivative_types(n, k), n, k)\n",
    "print(len(hashes), len(set(hashes)))"
   ]
  },
  {
   "cell_type": "code",
   "execution_count": 15,
   "id": "e456128a-601b-4b98-bbf6-c90df5377c06",
   "metadata": {},
   "outputs": [
    {
     "name": "stdout",
     "output_type": "stream",
     "text": [
      "91.8 ms ± 2.85 ms per loop (mean ± std. dev. of 7 runs, 10 loops each)\n"
     ]
    }
   ],
   "source": [
    "%%timeit\n",
    "[_der_type_to_hash(arr, n, k) for arr in generate_derivative_types(n, k)]"
   ]
  },
  {
   "cell_type": "code",
   "execution_count": 16,
   "id": "ee2acad7-770c-4636-a307-a767c7748598",
   "metadata": {},
   "outputs": [
    {
     "name": "stdout",
     "output_type": "stream",
     "text": [
      "22.7 ms ± 341 µs per loop (mean ± std. dev. of 7 runs, 10 loops each)\n"
     ]
    }
   ],
   "source": [
    "%%timeit\n",
    "_der_types_to_hashes(generate_derivative_types(n, k), n, k)"
   ]
  },
  {
   "cell_type": "code",
   "execution_count": 17,
   "id": "0bbcaf38-14d1-4896-9042-b29a3d3b40f8",
   "metadata": {},
   "outputs": [
    {
     "name": "stdout",
     "output_type": "stream",
     "text": [
      "17.9 ms ± 2.11 ms per loop (mean ± std. dev. of 7 runs, 100 loops each)\n"
     ]
    }
   ],
   "source": [
    "%%timeit\n",
    "der_types_to_hashes(generate_derivative_types(n, k), n, k)"
   ]
  },
  {
   "cell_type": "markdown",
   "id": "e8e279eb-182a-4769-9c44-12f53f12e3e4",
   "metadata": {},
   "source": [
    "## Accessing Derivative Bounds"
   ]
  },
  {
   "cell_type": "code",
   "execution_count": 18,
   "id": "7d57a411-9e09-4d47-90d9-d2b7b4cf17ce",
   "metadata": {},
   "outputs": [
    {
     "data": {
      "text/plain": [
       "DictType[int64,float64]<iv=None>({85: 0.0, 22: 1.0, 10: 2.0, 7: 3.0, 4: 4.0})"
      ]
     },
     "execution_count": 18,
     "metadata": {},
     "output_type": "execute_result"
    }
   ],
   "source": [
    "n = 4; k = 6\n",
    "make_dbound_dict(der_types_to_hashes(generate_derivative_types(n, k), n, k), np.arange(5))"
   ]
  },
  {
   "cell_type": "code",
   "execution_count": 19,
   "id": "57b5deba-0742-443b-a85b-8aed02135744",
   "metadata": {},
   "outputs": [
    {
     "name": "stdout",
     "output_type": "stream",
     "text": [
      "18.6 ms ± 1.2 ms per loop (mean ± std. dev. of 7 runs, 10 loops each)\n"
     ]
    }
   ],
   "source": [
    "%%timeit\n",
    "n=25; k=50\n",
    "_make_dbound_dict(der_types_to_hashes(generate_derivative_types(n, k), n, k), np.arange(1958))"
   ]
  },
  {
   "cell_type": "code",
   "execution_count": 20,
   "id": "da928e75-649a-475e-ad79-4af282784d99",
   "metadata": {},
   "outputs": [
    {
     "name": "stdout",
     "output_type": "stream",
     "text": [
      "15.7 ms ± 569 µs per loop (mean ± std. dev. of 7 runs, 100 loops each)\n"
     ]
    }
   ],
   "source": [
    "%%timeit\n",
    "n=25; k=50\n",
    "make_dbound_dict(der_types_to_hashes(generate_derivative_types(n, k), n, k), np.arange(1958))"
   ]
  },
  {
   "cell_type": "markdown",
   "id": "e8b6db92-5aa9-4831-9f1f-ba27c08bbc81",
   "metadata": {},
   "source": [
    "# Computing the Derivative Bound"
   ]
  },
  {
   "cell_type": "markdown",
   "id": "1ec89335-2205-45fc-9829-b21b00369207",
   "metadata": {},
   "source": [
    "## Compute the Cummulated Bounds of $g$"
   ]
  },
  {
   "cell_type": "markdown",
   "id": "d577cd59-966c-4c7f-98c0-e071b353cd9f",
   "metadata": {},
   "source": [
    "### Compute $\\eta$ , $\\zeta$\n",
    "#### Helper Functions"
   ]
  },
  {
   "cell_type": "code",
   "execution_count": 21,
   "id": "1f9d4370-5afa-44eb-a6ce-bf494dcc1f17",
   "metadata": {},
   "outputs": [
    {
     "data": {
      "text/plain": [
       "(1393459200, 1393459200.0)"
      ]
     },
     "execution_count": 21,
     "metadata": {},
     "output_type": "execute_result"
    }
   ],
   "source": [
    "arr = np.zeros(100, dtype=np.int16)\n",
    "arr[:5] = 2 * np.arange(5, dtype=np.int16)[::-1]\n",
    "dt_factorial(arr), np.prod(factorial(arr))"
   ]
  },
  {
   "cell_type": "code",
   "execution_count": 22,
   "id": "1248e740-aa13-49ff-8c57-e6ac490f3c58",
   "metadata": {},
   "outputs": [
    {
     "name": "stdout",
     "output_type": "stream",
     "text": [
      "167 µs ± 11.6 µs per loop (mean ± std. dev. of 7 runs, 10,000 loops each)\n"
     ]
    }
   ],
   "source": [
    "%%timeit\n",
    "_dt_factorial(arr)"
   ]
  },
  {
   "cell_type": "code",
   "execution_count": 23,
   "id": "3a5a0bcc-93fc-4978-8a2d-663e8cf82993",
   "metadata": {},
   "outputs": [
    {
     "name": "stdout",
     "output_type": "stream",
     "text": [
      "9.72 µs ± 291 ns per loop (mean ± std. dev. of 7 runs, 100,000 loops each)\n"
     ]
    }
   ],
   "source": [
    "%%timeit\n",
    "np.prod(factorial(arr))"
   ]
  },
  {
   "cell_type": "code",
   "execution_count": 24,
   "id": "20818681-daf9-4156-bbd8-954e42dec73a",
   "metadata": {},
   "outputs": [
    {
     "name": "stdout",
     "output_type": "stream",
     "text": [
      "326 ns ± 19.4 ns per loop (mean ± std. dev. of 7 runs, 1,000,000 loops each)\n"
     ]
    }
   ],
   "source": [
    "%%timeit\n",
    "dt_factorial(arr)"
   ]
  },
  {
   "cell_type": "code",
   "execution_count": 25,
   "id": "583076fb-1862-45d8-b394-c9e3c9f3b0f3",
   "metadata": {},
   "outputs": [
    {
     "name": "stdout",
     "output_type": "stream",
     "text": [
      "4.44 µs ± 96.6 ns per loop (mean ± std. dev. of 7 runs, 100,000 loops each)\n"
     ]
    }
   ],
   "source": [
    "%%timeit\n",
    "np.sum(arr)"
   ]
  },
  {
   "cell_type": "code",
   "execution_count": 26,
   "id": "315d80ec-5311-49d1-a79f-708b8b43a272",
   "metadata": {},
   "outputs": [
    {
     "name": "stdout",
     "output_type": "stream",
     "text": [
      "246 ns ± 12.6 ns per loop (mean ± std. dev. of 7 runs, 1,000,000 loops each)\n"
     ]
    }
   ],
   "source": [
    "%%timeit\n",
    "dt_sum(arr)"
   ]
  },
  {
   "cell_type": "code",
   "execution_count": 27,
   "id": "8ba62093-63e5-42e4-af9c-c02a24b19bbf",
   "metadata": {},
   "outputs": [
    {
     "data": {
      "text/plain": [
       "array([[ 4,  3,  2,  1,  0,  0,  0,  0,  0,  0],\n",
       "       [ 9,  8,  7,  6,  5,  0,  0,  0,  0,  0],\n",
       "       [14, 13, 12, 11, 10,  0,  0,  0,  0,  0]], dtype=int16)"
      ]
     },
     "execution_count": 27,
     "metadata": {},
     "output_type": "execute_result"
    }
   ],
   "source": [
    "sort_and_fill(np.arange(3*5, dtype=np.int16).reshape((3, 5)), 10)"
   ]
  },
  {
   "cell_type": "markdown",
   "id": "6b220eb9-ab9c-4a29-8956-82777d91798e",
   "metadata": {},
   "source": [
    "#### Compute $\\eta$"
   ]
  },
  {
   "cell_type": "code",
   "execution_count": 28,
   "id": "39eb7e50-6dab-4753-a7c9-3c942f4c7e0e",
   "metadata": {},
   "outputs": [
    {
     "data": {
      "text/plain": [
       "[array([[0, 1],\n",
       "        [3, 1]], dtype=int16),\n",
       " array([[0, 2],\n",
       "        [3, 0]], dtype=int16),\n",
       " array([[1, 0],\n",
       "        [2, 2]], dtype=int16),\n",
       " array([[1, 1],\n",
       "        [2, 1]], dtype=int16),\n",
       " array([[1, 2],\n",
       "        [2, 0]], dtype=int16),\n",
       " array([[2, 0],\n",
       "        [1, 2]], dtype=int16),\n",
       " array([[2, 1],\n",
       "        [1, 1]], dtype=int16),\n",
       " array([[2, 2],\n",
       "        [1, 0]], dtype=int16),\n",
       " array([[3, 0],\n",
       "        [0, 2]], dtype=int16),\n",
       " array([[3, 1],\n",
       "        [0, 1]], dtype=int16)]"
      ]
     },
     "execution_count": 28,
     "metadata": {},
     "output_type": "execute_result"
    }
   ],
   "source": [
    "[l for l in compute_etas(5, 3, 3, np.array((3, 2, 0), dtype=np.int16))]"
   ]
  },
  {
   "cell_type": "code",
   "execution_count": null,
   "id": "98e7f155-77a2-44dc-9a72-910fd6eb1170",
   "metadata": {},
   "outputs": [],
   "source": [
    "%%timeit\n",
    "_compute_etas(7, 3, 5, np.array((4, 3, 0), dtype=np.int16))"
   ]
  },
  {
   "cell_type": "code",
   "execution_count": null,
   "id": "a4f7f670-61d3-44b3-b400-183ef891dd05",
   "metadata": {},
   "outputs": [],
   "source": [
    "%%timeit\n",
    "compute_etas(7, 3, 5, np.array((4, 3, 0), dtype=np.int16))"
   ]
  },
  {
   "cell_type": "markdown",
   "id": "1ca1bc24-2e96-4d28-82e9-0bf238a1f571",
   "metadata": {},
   "source": [
    "#### Compute $\\zeta$\n",
    "For $\\zeta := (\\zeta^{(1)}, \\ldots, \\zeta^{(n)}) \\in (\\mathbb N^k)^n$, there are the following constraints:\n",
    "- $\\zeta^{(i)} = 0$ for $ i < j$\n",
    "- $\\vert \\zeta^{(i)} \\vert \\leq \\vert \\zeta^{(i+1)} \\vert$ for $ i < n$ <-- Constraint on row\n",
    "- $\\sum_{i=j}^{n} \\vert \\eta^{(i)} \\vert \\zeta^{(i)} = \\alpha$ <-- Constraint on column"
   ]
  },
  {
   "cell_type": "code",
   "execution_count": null,
   "id": "715e04fc-bbdd-4e54-8bb7-91f56c78e80a",
   "metadata": {},
   "outputs": [],
   "source": [
    "n = 5; k = 10; m = 3; j=2; alpha=np.array((3, 2, 0), dtype=np.int16)\n",
    "etas = compute_etas(n, m, j, alpha)\n",
    "zetas = compute_zetas(n, k, j, etas[0], alpha)\n",
    "etas[0], zetas[0], zetas[0] * etas[0].sum(axis=1)[:, None]"
   ]
  },
  {
   "cell_type": "code",
   "execution_count": null,
   "id": "70eda4e6-06e2-4ff0-89e2-7f3edd340d11",
   "metadata": {},
   "outputs": [],
   "source": [
    "n = 5; k = 10; m = 3; j=2; alpha=np.array((3, 2, 0), dtype=np.int16)\n",
    "etas = compute_etas(n, m, j, alpha)\n",
    "zetas = compute_zetas(n, k, j, etas[2], alpha)\n",
    "[etas[2]] + [l for l in zetas]"
   ]
  },
  {
   "cell_type": "code",
   "execution_count": null,
   "id": "f4dfd8cb-eb9c-44d7-8ce8-933ebd360f17",
   "metadata": {},
   "outputs": [],
   "source": [
    "zetas = compute_sorted_zetas(n, k, j, etas[2], alpha)\n",
    "[l for l in zetas]"
   ]
  },
  {
   "cell_type": "markdown",
   "id": "9e982c82-aef7-4ee2-a804-8a139950e9e0",
   "metadata": {},
   "source": [
    "### Cummulative $g$ bounds"
   ]
  },
  {
   "cell_type": "code",
   "execution_count": null,
   "id": "bcf8f958-608c-4e81-9a85-894f4d7f2238",
   "metadata": {},
   "outputs": [],
   "source": [
    "generate_derivative_subtypes(n, k)[-2]"
   ]
  },
  {
   "cell_type": "code",
   "execution_count": null,
   "id": "a2018ad6-7423-4c13-b8c1-c3514d90db16",
   "metadata": {},
   "outputs": [],
   "source": [
    "n = 5\n",
    "m = 10\n",
    "k = 10\n",
    "der_types = generate_derivative_subtypes(n, k)\n",
    "h_der_type = der_types[-2]\n",
    "f_der_type = generate_derivative_types(n, m)[1]\n",
    "g_dbounds = make_dbound_dict(der_types_to_hashes(der_types, n, k), np.ones(len(der_types)))\n",
    "compute_cumulated_g_bounds(n, m, k, h_der_type, f_der_type, g_dbounds)"
   ]
  },
  {
   "cell_type": "code",
   "execution_count": null,
   "id": "95ee13f5-44fa-4d4c-961a-5d60de6ee59a",
   "metadata": {},
   "outputs": [],
   "source": [
    "%%timeit\n",
    "_compute_cumulated_g_bounds(n, m, k, h_der_type, f_der_type, g_dbounds)"
   ]
  },
  {
   "cell_type": "code",
   "execution_count": null,
   "id": "2c702d99-6e1d-4bd3-a1ce-58c582994fcd",
   "metadata": {},
   "outputs": [],
   "source": [
    "%%timeit\n",
    "compute_cumulated_g_bounds(n, m, k, h_der_type, f_der_type, g_dbounds)"
   ]
  },
  {
   "cell_type": "code",
   "execution_count": null,
   "id": "65156914-33be-4ea6-9ea9-e5bad6e8bbd8",
   "metadata": {},
   "outputs": [],
   "source": [
    "compute_cumulated_g_bounds_for_j.parallel_diagnostics()"
   ]
  },
  {
   "cell_type": "markdown",
   "id": "05a05a46-e5ac-4709-bcfc-51687aa9ba2f",
   "metadata": {},
   "source": [
    "## Compute Representations of $\\beta$"
   ]
  },
  {
   "cell_type": "code",
   "execution_count": null,
   "id": "350f378c-de1e-457e-a48f-7ec48a595ee9",
   "metadata": {},
   "outputs": [],
   "source": [
    "binomial_coefficient(10, 2)"
   ]
  },
  {
   "cell_type": "code",
   "execution_count": null,
   "id": "06901922-3d73-4a9d-b225-968674319fea",
   "metadata": {},
   "outputs": [],
   "source": [
    "beta = np.zeros(1000)\n",
    "beta[:4] = np.array((1, 1, 1, 0), dtype=np.int16)\n",
    "number_of_representations(beta)"
   ]
  },
  {
   "cell_type": "code",
   "execution_count": null,
   "id": "e52093e0-be9e-477f-9311-3f315c1be290",
   "metadata": {},
   "outputs": [],
   "source": [
    "%%timeit\n",
    "_number_of_representations(beta)"
   ]
  },
  {
   "cell_type": "code",
   "execution_count": null,
   "id": "63a453e8-981c-4ded-9d87-656e0d2e2af2",
   "metadata": {},
   "outputs": [],
   "source": [
    "%%timeit\n",
    "number_of_representations(beta)"
   ]
  },
  {
   "cell_type": "markdown",
   "id": "131fd388-1453-4b5e-8784-7deefe3e55ea",
   "metadata": {},
   "source": [
    "## Compute Bound for $\\alpha$"
   ]
  },
  {
   "cell_type": "code",
   "execution_count": null,
   "id": "aeb0e3c1-fcc4-4215-a35d-48acc61a2a23",
   "metadata": {},
   "outputs": [],
   "source": [
    "n = 5\n",
    "m = 10\n",
    "k = 10\n",
    "der_types = generate_derivative_subtypes(n, k)\n",
    "h_der_type = der_types[-2]\n",
    "der_typesf = generate_derivative_subtypes(n, m)\n",
    "f_dbounds = make_dbound_dict(der_types_to_hashes(der_typesf, n, m), np.ones(len(der_typesf)))\n",
    "g_dbounds = make_dbound_dict(der_types_to_hashes(der_types, n, k), np.ones(len(der_types)))\n",
    "compute_bound_for_alpha(n, m, k, h_der_type, f_dbounds, g_dbounds)"
   ]
  },
  {
   "cell_type": "code",
   "execution_count": null,
   "id": "31d08590-3454-42a1-8960-8cdddb573af6",
   "metadata": {},
   "outputs": [],
   "source": [
    "%%timeit\n",
    "compute_bound_for_alpha(n, m, k, h_der_type, f_dbounds, g_dbounds)"
   ]
  },
  {
   "cell_type": "code",
   "execution_count": null,
   "id": "e90a2ec5-6ad0-40c8-b752-7b31b42a7455",
   "metadata": {},
   "outputs": [],
   "source": [
    "np.arange(1, 11, dtype=np.int16)"
   ]
  },
  {
   "cell_type": "code",
   "execution_count": null,
   "id": "135d34cc-0d72-4bb5-8247-a5f908577086",
   "metadata": {},
   "outputs": [],
   "source": []
  }
 ],
 "metadata": {
  "kernelspec": {
   "display_name": "Python 3 (ipykernel)",
   "language": "python",
   "name": "python3"
  },
  "language_info": {
   "codemirror_mode": {
    "name": "ipython",
    "version": 3
   },
   "file_extension": ".py",
   "mimetype": "text/x-python",
   "name": "python",
   "nbconvert_exporter": "python",
   "pygments_lexer": "ipython3",
   "version": "3.11.5"
  }
 },
 "nbformat": 4,
 "nbformat_minor": 5
}
